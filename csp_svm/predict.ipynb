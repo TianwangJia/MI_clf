{
 "cells": [
  {
   "cell_type": "code",
   "execution_count": 1,
   "metadata": {},
   "outputs": [],
   "source": [
    "import numpy as np\n",
    "import os\n",
    "import matplotlib.pyplot as plt\n",
    "import torch\n",
    "import mne\n",
    "import random\n",
    "from mne.decoding import CSP\n",
    "\n",
    "from sklearn.svm import SVC\n",
    "from scipy.linalg import fractional_matrix_power\n",
    "import scipy.signal as signal\n",
    "import sys\n",
    "import pickle\n",
    "import pandas as pd"
   ]
  },
  {
   "cell_type": "markdown",
   "metadata": {},
   "source": [
    "## 函数定义\n",
    "\n",
    "定义数据预处理EA, 带通滤波, 采样点划分函数"
   ]
  },
  {
   "cell_type": "code",
   "execution_count": 2,
   "metadata": {},
   "outputs": [],
   "source": [
    "def ea(x):\n",
    "    # tensor\n",
    "    if isinstance(x, np.ndarray):\n",
    "            x = x.copy()\n",
    "            x = torch.from_numpy(x).type(torch.FloatTensor)\n",
    "    for i in range(4):\n",
    "        s = x[i * 200:(i + 1) * 200]\n",
    "        cov = torch.zeros((s.shape[0], s.shape[1], s.shape[1]))\n",
    "        for j in range(s.shape[0]):\n",
    "            cov[j] = torch.cov(s[j])\n",
    "        refEA = torch.mean(cov, 0)\n",
    "        sqrtRefEA = torch.from_numpy(fractional_matrix_power(refEA,-0.5)).type(torch.FloatTensor)\n",
    "        x[i*200:(i+1)*200] = torch.matmul(sqrtRefEA, x[i*200:(i+1)*200])\n",
    "    return np.array(x).astype('float64') # 需要修改为float64, 否则ea后加csp报错\n",
    "\n",
    "def bandpass(x, low=8, high=16):\n",
    "    b,a = signal.butter(N=4, Wn=(low,high), btype='bandpass', fs=250)\n",
    "    x_filtered = signal.filtfilt(b,a,x,axis=2)\n",
    "    return x_filtered\n",
    "\n",
    "def split_time(x,start=0, end=350):\n",
    "    return x[:,:,start:end]"
   ]
  },
  {
   "cell_type": "markdown",
   "metadata": {},
   "source": [
    "定义CSP提取特征"
   ]
  },
  {
   "cell_type": "code",
   "execution_count": 3,
   "metadata": {},
   "outputs": [],
   "source": [
    "def csp_decode(x, y, csp_num):\n",
    "    if y.ndim > 1:\n",
    "        y = y.squeeze()\n",
    "    csp = CSP(n_components=csp_num, transform_into='average_power')\n",
    "    x_tran = csp.fit_transform(x, y)\n",
    "\n",
    "    return csp, x_tran"
   ]
  },
  {
   "cell_type": "markdown",
   "metadata": {},
   "source": [
    "定义投票函数"
   ]
  },
  {
   "cell_type": "code",
   "execution_count": 4,
   "metadata": {},
   "outputs": [],
   "source": [
    "def vote(y_pred_ensemble):\n",
    "    y_pred = np.zeros(y_pred_ensemble.shape[0])\n",
    "    for i in range(len(y_pred)):\n",
    "        y_pred[i] = np.argmax(np.bincount(y_pred_ensemble[i]))\n",
    "\n",
    "    return y_pred"
   ]
  },
  {
   "cell_type": "markdown",
   "metadata": {},
   "source": [
    "定义获取数据函数"
   ]
  },
  {
   "cell_type": "code",
   "execution_count": 5,
   "metadata": {},
   "outputs": [],
   "source": [
    "# 获取训练集数据\n",
    "def get_traindata(root='../data/train/'):\n",
    "    x1 = []\n",
    "    y1 = []\n",
    "    for i in range(4):\n",
    "        temp = np.load(root + 'S' + str(i + 1) + '.npz')\n",
    "        x1.append(temp['X'])\n",
    "        y1.append(temp['y'])\n",
    "    x = np.array(x1)  #(4, 200, 13, 750)\n",
    "    y = np.array(y1)  #(4, 200)\n",
    "\n",
    "    # reshape x: (N,H,W)  y: (N,1) \n",
    "    x = x.reshape(x.shape[0] * x.shape[1], x.shape[2], x.shape[3]) # (800, 13, 750)\n",
    "    y = y.reshape(-1, 1)  # (800, 1) \n",
    "\n",
    "    return x,y\n",
    "\n",
    "# 获取测试集数据\n",
    "def get_testdata(root='../data/test/'):\n",
    "    x1 = []\n",
    "    for i in range(4):\n",
    "        temp = np.load(root + 'S' + str(i + 5) + '.npz')\n",
    "        x1.append(temp['X'])\n",
    "    x = np.array(x1)\n",
    "    x = x.reshape(x.shape[0]*x.shape[1], x.shape[2],x.shape[3])\n",
    "\n",
    "    return x"
   ]
  },
  {
   "cell_type": "markdown",
   "metadata": {},
   "source": [
    "## 模型训练\n",
    "\n",
    "数据读入, 预处理"
   ]
  },
  {
   "cell_type": "code",
   "execution_count": 6,
   "metadata": {},
   "outputs": [
    {
     "name": "stdout",
     "output_type": "stream",
     "text": [
      "(800, 13, 750)\n",
      "(800, 13, 750)\n",
      "Computing rank from data with rank=None\n",
      "    Using tolerance 1.1 (2.2e-16 eps * 13 dim * 3.9e+14  max singular value)\n",
      "    Estimated rank (mag): 13\n",
      "    MAG: rank 13 computed from 13 data channels with 0 projectors\n",
      "Reducing data rank from 13 -> 13\n",
      "Estimating covariance using EMPIRICAL\n",
      "Done.\n",
      "Computing rank from data with rank=None\n",
      "    Using tolerance 1.2 (2.2e-16 eps * 13 dim * 4.2e+14  max singular value)\n",
      "    Estimated rank (mag): 13\n",
      "    MAG: rank 13 computed from 13 data channels with 0 projectors\n",
      "Reducing data rank from 13 -> 13\n",
      "Estimating covariance using EMPIRICAL\n",
      "Done.\n"
     ]
    }
   ],
   "source": [
    "x_train_ori,y_train_ori = get_traindata()\n",
    "x_test_ori = get_testdata()\n",
    "print(x_train_ori.shape)\n",
    "print(x_test_ori.shape)\n",
    "\n",
    "x_train_band = bandpass(x_train_ori, 8,16)\n",
    "x_test_band = bandpass(x_test_ori, 8,16)\n",
    "\n",
    "x_train_split = split_time(x_train_band, start=0, end=350)\n",
    "x_test_split = split_time(x_test_band, start=0, end=350)\n",
    "\n",
    "x_train_ea = ea(x_train_split)\n",
    "x_test_ea = ea(x_test_split)\n",
    "\n",
    "csp, X_train = csp_decode(x_train_ea, y_train_ori, csp_num=5)\n",
    "X_test = csp.transform(x_test_ea)"
   ]
  },
  {
   "cell_type": "code",
   "execution_count": 7,
   "metadata": {},
   "outputs": [
    {
     "name": "stdout",
     "output_type": "stream",
     "text": [
      "[SVC(), SVC(), SVC(), SVC(), SVC()]\n"
     ]
    }
   ],
   "source": [
    "# model ensemble\n",
    "clf_list = []\n",
    "# 训练新模型\n",
    "clf = SVC(kernel='rbf')\n",
    "clf.fit(X_train, y_train_ori.squeeze())\n",
    "# 第一个是新模型\n",
    "clf_list.append(clf)\n",
    "\n",
    "# 加载四个保存模型\n",
    "for i in range(4):\n",
    "    load_clf = pickle.load(open('clf'+str(i+1)+'.dat','rb'))\n",
    "    clf_list.append(load_clf)\n",
    "\n",
    "print(clf_list)"
   ]
  },
  {
   "cell_type": "markdown",
   "metadata": {},
   "source": [
    "## 数据预测与保存"
   ]
  },
  {
   "cell_type": "code",
   "execution_count": 8,
   "metadata": {},
   "outputs": [
    {
     "name": "stdout",
     "output_type": "stream",
     "text": [
      "(800, 5)\n",
      "(800,)\n"
     ]
    }
   ],
   "source": [
    "\n",
    "y_pred_ensemble = np.zeros((len(y_train_ori),5))\n",
    "for i in range(5):\n",
    "    clf = clf_list[i]\n",
    "    y_pred_ensemble[:,i] = clf.predict(X_test)\n",
    "\n",
    "print(y_pred_ensemble.shape)\n",
    "\n",
    "y_pred_ensemble = y_pred_ensemble.astype('int64')\n",
    "y_pred = vote(y_pred_ensemble).astype('int64')\n",
    "print(y_pred.shape)"
   ]
  },
  {
   "cell_type": "code",
   "execution_count": 9,
   "metadata": {},
   "outputs": [
    {
     "name": "stdout",
     "output_type": "stream",
     "text": [
      "[ 89 120 135 152]\n",
      "496\n"
     ]
    }
   ],
   "source": [
    "# 数据reshape(200,4), 即每一列是一个被试\n",
    "new_y_pred = y_pred.reshape(4,200) # reshape 的时候先填充行, 所以一个subject填充一行\n",
    "new_y_pred = new_y_pred.T\n",
    "new_y_pred = new_y_pred.astype('int64')\n",
    "\n",
    "# 查看每个被试的预测情况\n",
    "print(np.sum(new_y_pred, axis = 0))\n",
    "\n",
    "# 查看总体预测情况\n",
    "print(sum(y_pred))"
   ]
  },
  {
   "cell_type": "code",
   "execution_count": 10,
   "metadata": {},
   "outputs": [
    {
     "data": {
      "text/html": [
       "<div>\n",
       "<style scoped>\n",
       "    .dataframe tbody tr th:only-of-type {\n",
       "        vertical-align: middle;\n",
       "    }\n",
       "\n",
       "    .dataframe tbody tr th {\n",
       "        vertical-align: top;\n",
       "    }\n",
       "\n",
       "    .dataframe thead th {\n",
       "        text-align: right;\n",
       "    }\n",
       "</style>\n",
       "<table border=\"1\" class=\"dataframe\">\n",
       "  <thead>\n",
       "    <tr style=\"text-align: right;\">\n",
       "      <th></th>\n",
       "      <th>S5</th>\n",
       "      <th>S6</th>\n",
       "      <th>S7</th>\n",
       "      <th>S8</th>\n",
       "    </tr>\n",
       "  </thead>\n",
       "  <tbody>\n",
       "    <tr>\n",
       "      <th>0</th>\n",
       "      <td>1</td>\n",
       "      <td>1</td>\n",
       "      <td>1</td>\n",
       "      <td>1</td>\n",
       "    </tr>\n",
       "    <tr>\n",
       "      <th>1</th>\n",
       "      <td>0</td>\n",
       "      <td>1</td>\n",
       "      <td>1</td>\n",
       "      <td>0</td>\n",
       "    </tr>\n",
       "    <tr>\n",
       "      <th>2</th>\n",
       "      <td>1</td>\n",
       "      <td>0</td>\n",
       "      <td>1</td>\n",
       "      <td>0</td>\n",
       "    </tr>\n",
       "    <tr>\n",
       "      <th>3</th>\n",
       "      <td>1</td>\n",
       "      <td>1</td>\n",
       "      <td>1</td>\n",
       "      <td>0</td>\n",
       "    </tr>\n",
       "    <tr>\n",
       "      <th>4</th>\n",
       "      <td>0</td>\n",
       "      <td>0</td>\n",
       "      <td>1</td>\n",
       "      <td>1</td>\n",
       "    </tr>\n",
       "    <tr>\n",
       "      <th>...</th>\n",
       "      <td>...</td>\n",
       "      <td>...</td>\n",
       "      <td>...</td>\n",
       "      <td>...</td>\n",
       "    </tr>\n",
       "    <tr>\n",
       "      <th>195</th>\n",
       "      <td>0</td>\n",
       "      <td>1</td>\n",
       "      <td>0</td>\n",
       "      <td>1</td>\n",
       "    </tr>\n",
       "    <tr>\n",
       "      <th>196</th>\n",
       "      <td>0</td>\n",
       "      <td>0</td>\n",
       "      <td>0</td>\n",
       "      <td>0</td>\n",
       "    </tr>\n",
       "    <tr>\n",
       "      <th>197</th>\n",
       "      <td>0</td>\n",
       "      <td>1</td>\n",
       "      <td>1</td>\n",
       "      <td>1</td>\n",
       "    </tr>\n",
       "    <tr>\n",
       "      <th>198</th>\n",
       "      <td>1</td>\n",
       "      <td>1</td>\n",
       "      <td>1</td>\n",
       "      <td>1</td>\n",
       "    </tr>\n",
       "    <tr>\n",
       "      <th>199</th>\n",
       "      <td>1</td>\n",
       "      <td>1</td>\n",
       "      <td>0</td>\n",
       "      <td>1</td>\n",
       "    </tr>\n",
       "  </tbody>\n",
       "</table>\n",
       "<p>200 rows × 4 columns</p>\n",
       "</div>"
      ],
      "text/plain": [
       "     S5  S6  S7  S8\n",
       "0     1   1   1   1\n",
       "1     0   1   1   0\n",
       "2     1   0   1   0\n",
       "3     1   1   1   0\n",
       "4     0   0   1   1\n",
       "..   ..  ..  ..  ..\n",
       "195   0   1   0   1\n",
       "196   0   0   0   0\n",
       "197   0   1   1   1\n",
       "198   1   1   1   1\n",
       "199   1   1   0   1\n",
       "\n",
       "[200 rows x 4 columns]"
      ]
     },
     "execution_count": 10,
     "metadata": {},
     "output_type": "execute_result"
    }
   ],
   "source": [
    "# 转成dataframe格式并保存\n",
    "pd_y_pred = pd.DataFrame(new_y_pred, dtype='int64')\n",
    "pd_y_pred.columns = ['S5','S6', 'S7', 'S8']\n",
    "pd_y_pred"
   ]
  },
  {
   "cell_type": "code",
   "execution_count": 11,
   "metadata": {},
   "outputs": [],
   "source": [
    "pd_y_pred.to_csv('y_pred.csv', index=False)"
   ]
  },
  {
   "cell_type": "markdown",
   "metadata": {},
   "source": [
    "## 查看训练集准确率"
   ]
  },
  {
   "cell_type": "code",
   "execution_count": 12,
   "metadata": {},
   "outputs": [
    {
     "name": "stdout",
     "output_type": "stream",
     "text": [
      "模型集成后训练集准确率: 76.62%\n",
      "只使用全部数据训练模型, 训练集准确率: 76.50%\n"
     ]
    }
   ],
   "source": [
    "# 查看训练集acc\n",
    "y_train_pred_ensemble = np.zeros((len(y_train_ori),5))\n",
    "for i in range(5):\n",
    "    clf = clf_list[i]\n",
    "    y_train_pred_ensemble[:,i] = clf.predict(X_train)\n",
    "\n",
    "y_train_pred_ensemble = y_train_pred_ensemble.astype('int64')\n",
    "y_train_pred = vote(y_train_pred_ensemble)\n",
    "\n",
    "# 全部使用\n",
    "print('模型集成后训练集准确率: {:.2f}%'.format(100*np.sum(y_train_pred==y_train_ori.squeeze())/len(y_train_pred)))\n",
    "\n",
    "# 只使用第一个clf 全部数据训练得到的\n",
    "print('只使用全部数据训练模型, 训练集准确率: {:.2f}%'.format(100*np.sum(y_train_pred_ensemble[:,0]==y_train_ori.squeeze())/len(y_train_pred)))"
   ]
  }
 ],
 "metadata": {
  "kernelspec": {
   "display_name": "Python 3.8.0 ('bci': conda)",
   "language": "python",
   "name": "python3"
  },
  "language_info": {
   "codemirror_mode": {
    "name": "ipython",
    "version": 3
   },
   "file_extension": ".py",
   "mimetype": "text/x-python",
   "name": "python",
   "nbconvert_exporter": "python",
   "pygments_lexer": "ipython3",
   "version": "3.8.0"
  },
  "orig_nbformat": 4,
  "vscode": {
   "interpreter": {
    "hash": "380d460496d24f91f7896677cb77cda666705952d63768ff76bc6325a116103a"
   }
  }
 },
 "nbformat": 4,
 "nbformat_minor": 2
}
